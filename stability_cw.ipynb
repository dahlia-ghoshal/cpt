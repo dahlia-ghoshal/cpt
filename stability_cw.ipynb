{
 "cells": [
  {
   "cell_type": "code",
   "execution_count": 1,
   "metadata": {},
   "outputs": [],
   "source": [
    "import numpy as np\n",
    "import pandas as pd\n",
    "import matplotlib.pyplot as plt\n",
    "import csv\n",
    "\n",
    "import cpt"
   ]
  },
  {
   "cell_type": "code",
   "execution_count": 2,
   "metadata": {},
   "outputs": [],
   "source": [
    "p11, p22, p33 = 0.5, 0.5, 0 #density matrix values\n",
    "p12, p13, p23 = 0, 0, 0\n",
    "P0 = np.array([p11, p22, p12, p13, p23], dtype='complex')"
   ]
  },
  {
   "cell_type": "code",
   "execution_count": 8,
   "metadata": {},
   "outputs": [],
   "source": [
    "def writespec(filename, detuning, pop):\n",
    "    with open(filename, \"w\") as datafile:\n",
    "        writer = csv.writer(datafile)\n",
    "        writer.writerow(['detuning (MHz)', 'p11+p22'])\n",
    "        for i in range(detuning.size):\n",
    "            writer.writerow([detuning[i], pop[i].real])\n",
    "    return"
   ]
  },
  {
   "cell_type": "code",
   "execution_count": 60,
   "metadata": {},
   "outputs": [],
   "source": [
    "t1=20\n",
    "d1_max = 7\n",
    "n=200\n",
    "\n",
    "for I1 in np.linspace(0.05, 1, num=20):\n",
    "    I2 = I1\n",
    "    (d1_lin, ptot_lin) = cpt.cw_resonance(t1, P0, I1, I2, d1_max, n=n, fs=2e-2, ms=2e-1)\n",
    "    filename = 'cw_res{:.2f}.csv'.format(I1)\n",
    "    writespec(filename, d1_lin, ptot_lin)"
   ]
  },
  {
   "cell_type": "code",
   "execution_count": 61,
   "metadata": {},
   "outputs": [
    {
     "data": {
      "text/plain": [
       "[<matplotlib.lines.Line2D at 0x18128fee048>]"
      ]
     },
     "execution_count": 61,
     "metadata": {},
     "output_type": "execute_result"
    },
    {
     "data": {
      "image/png": "[encoded data removed]",
      "text/plain": [
       "<Figure size 432x288 with 1 Axes>"
      ]
     },
     "metadata": {
      "needs_background": "light"
     },
     "output_type": "display_data"
    }
   ],
   "source": [
    "res1 = pd.read_csv('cw_res0.50.csv')\n",
    "d = res1['detuning (MHz)']\n",
    "p = res1['p11+p22']\n",
    "\n",
    "plt.xlabel('Raman detuning (MHz)')\n",
    "plt.ylabel('p11+p22')\n",
    "plt.title('cw resonance')\n",
    "plt.plot(d, p)\n",
    "#plt.plot(d[40:60], p[40:60])"
   ]
  },
  {
   "cell_type": "code",
   "execution_count": 54,
   "metadata": {},
   "outputs": [],
   "source": [
    "def cw_contrast(p):\n",
    "\n",
    "    imax = int(p.size/2)\n",
    "    pmax = p[imax]\n",
    "    pmin = pmax\n",
    "    for i in range(imax-1, 0, -1):\n",
    "        if (p[i] > p[i+1]):\n",
    "            pmin = p[i+1]\n",
    "            break\n",
    "    return (pmax-pmin)/pmin"
   ]
  },
  {
   "cell_type": "code",
   "execution_count": 62,
   "metadata": {},
   "outputs": [
    {
     "data": {
      "text/plain": [
       "0.015880363392928917"
      ]
     },
     "execution_count": 62,
     "metadata": {},
     "output_type": "execute_result"
    }
   ],
   "source": [
    "cw_contrast(p)"
   ]
  },
  {
   "cell_type": "code",
   "execution_count": 56,
   "metadata": {},
   "outputs": [],
   "source": [
    "def cw_fwhm(d,p):\n",
    "    \n",
    "    imax = int(p.size/2)\n",
    "    pmax = p[imax]\n",
    "    \n",
    "    imin = 0\n",
    "    pmin = pmax\n",
    "    for i in range(imax-1, 0, -1):\n",
    "        if (p[i] > p[i+1]):\n",
    "            imin = i+1\n",
    "            pmin = p[i+1]\n",
    "            break\n",
    "            \n",
    "    halfmax = (pmax + pmin)/2\n",
    "    ihalf=0\n",
    "    mindiff=1\n",
    "    for i in range(imax-1, imin, -1):\n",
    "        diff = abs(p[i]-halfmax)\n",
    "        if (diff < mindiff):\n",
    "            mindiff = diff\n",
    "            ihalf = i\n",
    "    \n",
    "    return 2 * (d[imax]-d[ihalf])"
   ]
  },
  {
   "cell_type": "code",
   "execution_count": 63,
   "metadata": {},
   "outputs": [
    {
     "data": {
      "text/plain": [
       "1.2663316582914579"
      ]
     },
     "execution_count": 63,
     "metadata": {},
     "output_type": "execute_result"
    }
   ],
   "source": [
    "cw_fwhm(d,p)"
   ]
  },
  {
   "cell_type": "markdown",
   "metadata": {},
   "source": []
  },
  {
   "cell_type": "code",
   "execution_count": 64,
   "metadata": {},
   "outputs": [],
   "source": [
    "data = [['I', 'contrast', 'fwhm']]\n",
    "for I1 in np.linspace(0.05, 1, num=20):\n",
    "    filename = 'cw_res{:.2f}.csv'.format(I1)\n",
    "    res = pd.read_csv(filename)\n",
    "    d = res['detuning (MHz)']\n",
    "    p = res['p11+p22']\n",
    "    row = [I1, cw_contrast(p), cw_fwhm(d,p)]\n",
    "    data.append(row)"
   ]
  },
  {
   "cell_type": "code",
   "execution_count": 65,
   "metadata": {},
   "outputs": [],
   "source": [
    "dataf = pd.DataFrame(data[1:], columns = ['I', 'contrast', 'fwhm'])"
   ]
  },
  {
   "cell_type": "code",
   "execution_count": 66,
   "metadata": {},
   "outputs": [
    {
     "data": {
      "text/plain": [
       "[<matplotlib.lines.Line2D at 0x18129078a88>]"
      ]
     },
     "execution_count": 66,
     "metadata": {},
     "output_type": "execute_result"
    },
    {
     "data": {
      "image/png": "[encoded data removed]",
      "text/plain": [
       "<Figure size 432x288 with 1 Axes>"
      ]
     },
     "metadata": {
      "needs_background": "light"
     },
     "output_type": "display_data"
    }
   ],
   "source": [
    "plt.plot(dataf['I'], dataf['contrast'])"
   ]
  },
  {
   "cell_type": "code",
   "execution_count": 67,
   "metadata": {},
   "outputs": [
    {
     "data": {
      "text/plain": [
       "[<matplotlib.lines.Line2D at 0x181290d69c8>]"
      ]
     },
     "execution_count": 67,
     "metadata": {},
     "output_type": "execute_result"
    },
    {
     "data": {
      "image/png": "[encoded data removed]",
      "text/plain": [
       "<Figure size 432x288 with 1 Axes>"
      ]
     },
     "metadata": {
      "needs_background": "light"
     },
     "output_type": "display_data"
    }
   ],
   "source": [
    "plt.plot(dataf['I'], dataf['fwhm'])"
   ]
  },
  {
   "cell_type": "code",
   "execution_count": 77,
   "metadata": {},
   "outputs": [
    {
     "data": {
      "text/plain": [
       "[<matplotlib.lines.Line2D at 0x1812926f388>]"
      ]
     },
     "execution_count": 77,
     "metadata": {},
     "output_type": "execute_result"
    },
    {
     "data": {
      "image/png": "[encoded data removed]",
      "text/plain": [
       "<Figure size 432x288 with 1 Axes>"
      ]
     },
     "metadata": {
      "needs_background": "light"
     },
     "output_type": "display_data"
    }
   ],
   "source": [
    "plt.xlabel('intensity (W/m^2)')\n",
    "plt.ylabel('fwhm/contrast')\n",
    "plt.title('cw interrogation')\n",
    "plt.plot(dataf['I'], np.divide(dataf['fwhm'], dataf['contrast']))"
   ]
  },
  {
   "cell_type": "code",
   "execution_count": 76,
   "metadata": {},
   "outputs": [],
   "source": [
    "filename = 'cw_stability.csv'\n",
    "with open(filename, \"w\") as datafile:\n",
    "        writer = csv.writer(datafile)\n",
    "        writer.writerow(['I', 'contrast', 'fwhm'])\n",
    "        for i in range(dataf.shape[0]):\n",
    "            writer.writerow([dataf['I'][i], dataf['contrast'][i], dataf['fwhm'][i]])\n",
    "                             "
   ]
  },
  {
   "cell_type": "code",
   "execution_count": null,
   "metadata": {},
   "outputs": [],
   "source": []
  }
 ],
 "metadata": {
  "kernelspec": {
   "display_name": "Python 3",
   "language": "python",
   "name": "python3"
  },
  "language_info": {
   "codemirror_mode": {
    "name": "ipython",
    "version": 3
   },
   "file_extension": ".py",
   "mimetype": "text/x-python",
   "name": "python",
   "nbconvert_exporter": "python",
   "pygments_lexer": "ipython3",
   "version": "3.7.7"
  }
 },
 "nbformat": 4,
 "nbformat_minor": 4
}
