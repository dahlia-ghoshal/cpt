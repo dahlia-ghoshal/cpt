{
 "cells": [
  {
   "cell_type": "markdown",
   "metadata": {},
   "source": [
    "Ramsey Fringes"
   ]
  },
  {
   "cell_type": "code",
   "execution_count": 1,
   "metadata": {},
   "outputs": [],
   "source": [
    "import numpy as np\n",
    "import matplotlib.pyplot as plt\n",
    "from scipy.integrate import solve_ivp"
   ]
  },
  {
   "cell_type": "code",
   "execution_count": 22,
   "metadata": {},
   "outputs": [],
   "source": [
    "# set initial values\n",
    "p11, p22, p33 = .5, .5, 0\n",
    "p12, p13, p23 = 0.5, 0, 0\n",
    "w1_0, w2_0 = 0.25,0.25\n",
    "d1, d2 = 5, 0\n",
    "g31, g32 = 0.05, 0.05\n",
    "\n",
    "t1 = 50\n",
    "tfree = 50\n",
    "t2 = 25\n",
    "tmeasure = 1\n",
    "n_cycles = 20\n",
    "\n",
    "\n",
    "# initialize other variables\n",
    "\n",
    "P0 = np.array([p11, p22, p12, p13, p23], dtype='complex')\n",
    "\n",
    "on = (w1_0, w2_0)\n",
    "off = (0,0)\n",
    "\n",
    "t1span = (0, t1)\n",
    "tfreespan = (0, tfree)\n",
    "t2span = (0, t2)"
   ]
  },
  {
   "cell_type": "code",
   "execution_count": 3,
   "metadata": {},
   "outputs": [],
   "source": [
    "# eoms\n",
    "\n",
    "'''\n",
    "P[0] = p11\n",
    "P[1] = p22\n",
    "P[2] = p12\n",
    "P[3] = p13\n",
    "P[4] = p23\n",
    "'''\n",
    "\n",
    "def dP_dt(t, P, w1, w2):\n",
    "    Pt = np.zeros(5, dtype='complex')\n",
    "    Pt[0] = 1j * w1 * (np.conj(P[3])-P[3]) + g31*(1-P[0]-P[1])\n",
    "    Pt[1] = 1j * w2 * (np.conj(P[4])-P[4]) + g32*(1-P[0]-P[1])\n",
    "    Pt[2] = 1j * ((d1+d2)*P[2] + w1*np.conj(P[4]) - w2*P[3])\n",
    "    Pt[3] = 1j * (d1*P[3] + w1*(1-P[1]-2*P[0]) - w2*(P[2]))\n",
    "    Pt[4] = 1j * (-1*d2*P[4] + w2*(1-P[0]-2*P[1]) - w1*np.conj(P[2]))\n",
    "    return Pt\n"
   ]
  },
  {
   "cell_type": "code",
   "execution_count": 25,
   "metadata": {},
   "outputs": [
    {
     "name": "stdout",
     "output_type": "stream",
     "text": [
      "  message: 'The solver successfully reached the end of the integration interval.'\n",
      "     nfev: 3007\n",
      "     njev: 0\n",
      "      nlu: 0\n",
      "      sol: None\n",
      "   status: 0\n",
      "  success: True\n",
      "        t: array([ 1, 50])\n",
      " t_events: None\n",
      "        y: array([[ 0.51236953+0.j        ,  0.85701885+0.j        ],\n",
      "       [ 0.4684339 +0.j        ,  0.1074922 +0.j        ],\n",
      "       [ 0.15001989-0.46577721j,  0.45701278-0.18669077j],\n",
      "       [-0.10093994-0.01391912j,  0.03311293+0.04453723j],\n",
      "       [-0.01699027-0.09617137j,  0.01683856+0.016285j  ]])\n",
      " y_events: None\n"
     ]
    },
    {
     "data": {
      "text/plain": [
       "(array([ 0.51236953+0.j        ,  0.4684339 +0.j        ,\n",
       "         0.15001989-0.46577721j, -0.10093994-0.01391912j,\n",
       "        -0.01699027-0.09617137j]),\n",
       " array([ 0.87464377+0.j        ,  0.12511711+0.j        ,\n",
       "        -0.07009342-0.48788773j,  0.05116096-0.02128141j,\n",
       "         0.01683856+0.016285j  ]))"
      ]
     },
     "execution_count": 25,
     "metadata": {},
     "output_type": "execute_result"
    }
   ],
   "source": [
    "def ramsey(P, first_step, max_step):\n",
    "    \n",
    "    measured = np.zeros(5, dtype='complex')\n",
    "    P_curr = np.zeros(5, dtype='complex')\n",
    "    for i in range(5):\n",
    "        P_curr[i] = P[i]\n",
    "    \n",
    "    # pulse\n",
    "    result = solve_ivp(dP_dt, t1span, P_curr, args=on, t_eval=[tmeasure, t1], first_step=first_step, max_step=max_step)\n",
    "    print(result)\n",
    "    for j in range(5):\n",
    "        measured[j] = result.y[j, 0]\n",
    "        P_curr[j] = result.y[j, 1]\n",
    "    \n",
    "    # free evolution\n",
    "    result = solve_ivp(dP_dt, tfreespan, P_curr, args=off, t_eval=[tfree], first_step=first_step, max_step=max_step)\n",
    "    for j in range(5):\n",
    "        P_curr[j] = result.y[j, 0]\n",
    "        \n",
    "    return measured, P_curr\n",
    "\n",
    "\n",
    "ramsey(P0, 0.01, 0.1)"
   ]
  },
  {
   "cell_type": "code",
   "execution_count": null,
   "metadata": {},
   "outputs": [],
   "source": [
    "def repeat_cycle(n):\n",
    "    "
   ]
  }
 ],
 "metadata": {
  "kernelspec": {
   "display_name": "Python 3",
   "language": "python",
   "name": "python3"
  },
  "language_info": {
   "codemirror_mode": {
    "name": "ipython",
    "version": 3
   },
   "file_extension": ".py",
   "mimetype": "text/x-python",
   "name": "python",
   "nbconvert_exporter": "python",
   "pygments_lexer": "ipython3",
   "version": "3.7.7"
  }
 },
 "nbformat": 4,
 "nbformat_minor": 2
}
