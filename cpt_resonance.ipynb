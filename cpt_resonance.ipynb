{
 "cells": [
  {
   "cell_type": "markdown",
   "metadata": {},
   "source": [
    "CPT Resonance"
   ]
  },
  {
   "cell_type": "code",
   "execution_count": 10,
   "metadata": {},
   "outputs": [],
   "source": [
    "import pandas as pd\n",
    "import numpy as np\n",
    "import matplotlib.pyplot as plt\n",
    "from scipy.integrate import solve_ivp"
   ]
  },
  {
   "cell_type": "code",
   "execution_count": 52,
   "metadata": {},
   "outputs": [],
   "source": [
    "# Initial values\n",
    "p11, p22, p33 = 0.5, 0.5, 0\n",
    "p12, p13, p23 = 0, 0, 0\n",
    "w1, w2 = 1,1.1\n",
    "d1, d2 = 0.1, 0.1\n",
    "\n",
    "P0 = np.array([p11, p22, p12, p13, p23], dtype='complex')"
   ]
  },
  {
   "cell_type": "code",
   "execution_count": 48,
   "metadata": {},
   "outputs": [],
   "source": [
    "# eoms\n",
    "def dP_dt(t, P):\n",
    "    Pt = np.zeros(5, dtype='complex')\n",
    "    Pt[0] = 1j * w1*(np.conj(P[3])-P[3])\n",
    "    Pt[1] = 1j * w2*(np.conj(P[4])-P[4])\n",
    "    Pt[2] = 1j * ((d1+d2)*P[2] + w1*np.conj(P[4]) - w2*P[3])\n",
    "    Pt[3] = 1j * (d1*P[3] + w1*(1-P[1]-2*P[0]) - w2*(P[2]))\n",
    "    Pt[4] = 1j * (-1*d2*P[4] + w2*(1-P[0]-2*P[1]) - w1*np.conj(P[2]))\n",
    "    return Pt\n"
   ]
  },
  {
   "cell_type": "code",
   "execution_count": 54,
   "metadata": {},
   "outputs": [
    {
     "name": "stdout",
     "output_type": "stream",
     "text": [
      "[[ 5.00000000e-01+0.00000000e+00j  4.99998197e-01+0.00000000e+00j\n",
      "   4.99781939e-01+0.00000000e+00j ...  3.65241525e-01+0.00000000e+00j\n",
      "   4.76571730e-01+0.00000000e+00j  4.77718348e-01+0.00000000e+00j]\n",
      " [ 5.00000000e-01+0.00000000e+00j  4.99997819e-01+0.00000000e+00j\n",
      "   4.99736146e-01+0.00000000e+00j ...  3.18559959e-01+0.00000000e+00j\n",
      "   4.61952954e-01+0.00000000e+00j  4.63498150e-01+0.00000000e+00j]\n",
      " [ 0.00000000e+00+0.00000000e+00j -1.98300494e-06-3.76534891e-10j\n",
      "  -2.39866528e-04-5.01047604e-07j ... -1.55748439e-01+1.09279487e-02j\n",
      "  -2.97888029e-02+3.23881487e-03j -2.84593488e-02+3.21420509e-03j]\n",
      " [ 0.00000000e+00+0.00000000e+00j  9.01363934e-08-9.49399131e-04j\n",
      "   1.09001696e-05-1.04367271e-02j ...  2.10984673e-03+1.59499614e-01j\n",
      "  -9.78304859e-04+1.05332385e-01j -1.01612353e-03+1.03215180e-01j]\n",
      " [ 0.00000000e+00+0.00000000e+00j -9.91500703e-08-1.04433904e-03j\n",
      "  -1.19907361e-05-1.14803998e-02j ... -4.03993185e-03+1.82950300e-01j\n",
      "   2.24878236e-04+1.28883656e-01j  2.77376024e-04+1.26608777e-01j]]\n"
     ]
    }
   ],
   "source": [
    "t = (0,200)\n",
    "\n",
    "Pf = solve_ivp(dP_dt, t, P0)\n",
    "print(Pf.y)"
   ]
  },
  {
   "cell_type": "code",
   "execution_count": null,
   "metadata": {},
   "outputs": [],
   "source": []
  }
 ],
 "metadata": {
  "kernelspec": {
   "display_name": "Python 3",
   "language": "python",
   "name": "python3"
  },
  "language_info": {
   "codemirror_mode": {
    "name": "ipython",
    "version": 3
   },
   "file_extension": ".py",
   "mimetype": "text/x-python",
   "name": "python",
   "nbconvert_exporter": "python",
   "pygments_lexer": "ipython3",
   "version": "3.7.4"
  }
 },
 "nbformat": 4,
 "nbformat_minor": 2
}
