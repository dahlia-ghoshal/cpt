{
 "cells": [
  {
   "cell_type": "code",
   "execution_count": 2,
   "metadata": {},
   "outputs": [],
   "source": [
    "import numpy as np\n",
    "import pandas as pd\n",
    "import matplotlib.pyplot as plt\n",
    "import csv\n",
    "import cpt"
   ]
  },
  {
   "cell_type": "code",
   "execution_count": 3,
   "metadata": {},
   "outputs": [],
   "source": [
    "p11, p22, p33 = 0.5, 0.5, 0 #density matrix values\n",
    "p12, p13, p23 = 0, 0, 0\n",
    "P0 = np.array([p11, p22, p12, p13, p23], dtype='complex')"
   ]
  },
  {
   "cell_type": "markdown",
   "metadata": {},
   "source": [
    "### example of using cpt.ramsey_resonance()"
   ]
  },
  {
   "cell_type": "code",
   "execution_count": 74,
   "metadata": {},
   "outputs": [
    {
     "data": {
      "text/plain": [
       "6606320.532394711"
      ]
     },
     "execution_count": 74,
     "metadata": {},
     "output_type": "execute_result"
    }
   ],
   "source": [
    "I1=1\n",
    "I2=3\n",
    "w1=cpt.get_w1(I1)\n",
    "w2=cpt.get_w2(I2)\n",
    "w1"
   ]
  },
  {
   "cell_type": "code",
   "execution_count": 92,
   "metadata": {},
   "outputs": [],
   "source": [
    "(detuning, ptot) = cpt.ramsey_resonance(10e-6, 10e-6, 0.3e-6, P0, I1, I2, 1e6, n=201, fs=0.01e-6, ms=0.1e-6)"
   ]
  },
  {
   "cell_type": "code",
   "execution_count": 93,
   "metadata": {},
   "outputs": [
    {
     "data": {
      "text/plain": [
       "[<matplotlib.lines.Line2D at 0x1314ad34108>]"
      ]
     },
     "execution_count": 93,
     "metadata": {},
     "output_type": "execute_result"
    },
    {
     "data": {
      "image/png": "[encoded data removed]",
      "text/plain": [
       "<Figure size 432x288 with 1 Axes>"
      ]
     },
     "metadata": {
      "needs_background": "light"
     },
     "output_type": "display_data"
    }
   ],
   "source": [
    "plt.xlabel('detuning (MHz)')\n",
    "plt.ylabel('p11+p22')\n",
    "plt.title('Ramsey fringes for I1 = '+ str(I1) +', I2 = '+ str(I2) + ' W/m^2')\n",
    "plt.plot(detuning*1e-6, ptot.real)"
   ]
  },
  {
   "cell_type": "markdown",
   "metadata": {},
   "source": [
    "### saving resonance spectra in csv files"
   ]
  },
  {
   "cell_type": "code",
   "execution_count": 58,
   "metadata": {},
   "outputs": [],
   "source": [
    "# write spectrum to file\n",
    "\n",
    "def writespec(filename, detuning, ptot):\n",
    "    with open(filename, \"w\") as datafile:\n",
    "        writer = csv.writer(datafile)\n",
    "        writer.writerow(['detuning (MHz)', 'p11+p22'])\n",
    "        for i in range(detuning.size):\n",
    "            writer.writerow([detuning[i]*1e-6, ptot[i].real])\n",
    "    return"
   ]
  },
  {
   "cell_type": "code",
   "execution_count": 101,
   "metadata": {},
   "outputs": [],
   "source": [
    "'''\n",
    "for I1_times4 in range(2, 13):\n",
    "    for I2_times4 in range(I1_times4, 13):\n",
    "        I1 = I1_times4 / 4\n",
    "        I2 = I2_times4 / 4\n",
    "        (detuning, ptot) = cpt.ramsey_resonance(10e-6, 10e-6, 0.3e-6, P0, I1, I2, 1e6, n=201, fs=0.01e-6, ms=0.1e-6)\n",
    "        filename='highres_I1=' + str(I1) + ',I2=' + str(I2) + \".csv\"\n",
    "        writespec(filename, detuning, ptot)"
   ]
  },
  {
   "cell_type": "markdown",
   "metadata": {},
   "source": [
    "### finding contrast and linewidth"
   ]
  },
  {
   "cell_type": "code",
   "execution_count": 102,
   "metadata": {},
   "outputs": [],
   "source": [
    "# find oscillating height of largest fringe\n",
    "# height = maxvalue - minvalue\n",
    "\n",
    "def fringe_osc_height(df, colname='p11+p22'):\n",
    "    minp=maxp=0.97\n",
    "    for p in df[colname]:\n",
    "        if (p < minp):\n",
    "            minp = p\n",
    "        elif (p > maxp):\n",
    "            maxp = p\n",
    "\n",
    "    osc_height = maxp-minp\n",
    "    return osc_height\n"
   ]
  },
  {
   "cell_type": "code",
   "execution_count": 103,
   "metadata": {},
   "outputs": [],
   "source": [
    "# find average height of largest fringe\n",
    "# avg_height = (maxheight + minheight) / 2\n",
    "\n",
    "# (note: assume largest fringe is near center of data, and has approximately cosine shape)\n",
    "\n",
    "def fringe_avg_height(df, colname='p11+p22'):\n",
    "    n=df.shape[0]\n",
    "    starti=int(n/4)\n",
    "    stopi=int(n*3/4)\n",
    "    df2 = df.loc[starti : stopi]  # look at center chunk of data\n",
    "    minp=maxp=0.97\n",
    "    for p in df2[colname]:\n",
    "        if (p < minp):\n",
    "            minp = p\n",
    "        elif (p > maxp):\n",
    "            maxp = p\n",
    "    \n",
    "    avg_height = (maxp + minp) / 2\n",
    "    return avg_height\n"
   ]
  },
  {
   "cell_type": "code",
   "execution_count": 104,
   "metadata": {},
   "outputs": [],
   "source": [
    "def fringe_contrast(df, colname='p11+p22'):\n",
    "    \n",
    "    osc_h = fringe_osc_height(df, colname)\n",
    "    avg_h = fringe_avg_height(df, colname)\n",
    "    \n",
    "    contrast = osc_h / avg_h\n",
    "    return contrast\n"
   ]
  },
  {
   "cell_type": "code",
   "execution_count": 105,
   "metadata": {},
   "outputs": [],
   "source": [
    "# find fwhm of largest fringe\n",
    "# (note: assume largest fringe is near center of data, and has approximately cosine shape)\n",
    "\n",
    "def fringe_fwhm(df, xname='detuning (MHz)', yname='p11+p22'):\n",
    "    n=df.shape[0]\n",
    "    starti=int(n/4)\n",
    "    stopi=int(n*3/4)\n",
    "    df2 = df.loc[starti : stopi]  # look at center chunk of data\n",
    "    \n",
    "    # find max value and index\n",
    "    maxy=0.97\n",
    "    maxi=0\n",
    "    for i in range(starti , stopi):\n",
    "        if (df2[yname][i] > maxy):\n",
    "            maxy = df2[yname][i]\n",
    "            maxi = i\n",
    "            \n",
    "    # find index of left minimum\n",
    "    leftmini=rightmini=0\n",
    "    prev=maxy\n",
    "    for i in range(maxi-1, starti, -1):\n",
    "        if (df2[yname][i] > prev):\n",
    "            leftmini = i+1\n",
    "            break\n",
    "        prev = df2[yname][i]\n",
    "\n",
    "    # find index of right minimum\n",
    "    prev=maxy\n",
    "    for i in range(maxi+1, stopi):\n",
    "        if (df2[yname][i] > prev):\n",
    "            rightmini = i-1\n",
    "            break\n",
    "        prev = df2[yname][i]\n",
    "    \n",
    "    # find indices of half maximums\n",
    "    lmidi = int((leftmini+maxi) / 2)\n",
    "    rmidi = int((rightmini+maxi) / 2)\n",
    "    \n",
    "    fwhm = df2[xname][rmidi] - df2[xname][lmidi]\n",
    "    return fwhm\n"
   ]
  },
  {
   "cell_type": "code",
   "execution_count": 107,
   "metadata": {},
   "outputs": [],
   "source": [
    "rams  = [['I1', 'I2', 'contrast', 'fwhm']]\n",
    "\n",
    "for I1_times4 in range(2, 13):\n",
    "    for I2_times4 in range(I1_times4, 13):\n",
    "        I1 = I1_times4 / 4\n",
    "        I2 = I2_times4 / 4\n",
    "        filename='highres_I1=' + str(I1) + ',I2=' + str(I2) + \".csv\"\n",
    "        d='detuning (MHz)'\n",
    "        p='p11+p22'\n",
    "\n",
    "        df = pd.read_csv(filename)\n",
    "        row = [I1, I2, fringe_contrast(df), fringe_fwhm(df)]\n",
    "        rams.append(row)\n",
    "        "
   ]
  },
  {
   "cell_type": "code",
   "execution_count": 108,
   "metadata": {},
   "outputs": [],
   "source": [
    "rams_df = pd.DataFrame(data=rams[1:], columns=rams[0])\n",
    "#rams_df.to_csv('highres_ramdata200.csv')"
   ]
  },
  {
   "cell_type": "code",
   "execution_count": 123,
   "metadata": {},
   "outputs": [],
   "source": [
    "ramdat = pd.read_csv('highres_ramdata200.csv', index_col=0)"
   ]
  },
  {
   "cell_type": "code",
   "execution_count": 124,
   "metadata": {},
   "outputs": [],
   "source": [
    "inten1=[]\n",
    "inten15=[]\n",
    "inten2=[]\n",
    "inten25=[]\n",
    "inten3=[]\n",
    "for row in ramdat.itertuples(index=False, name=None):\n",
    "    if (row[0]==1):\n",
    "        inten1.append([row[1], row[2], row[3]])\n",
    "    elif (row[0]==1.5):\n",
    "        inten15.append([row[1], row[2], row[3]])\n",
    "    elif (row[0]==2):\n",
    "        inten2.append([row[1], row[2], row[3]])\n",
    "    elif (row[0]==2.5):\n",
    "        inten25.append([row[1], row[2], row[3]])\n",
    "    elif (row[0]==3):\n",
    "        inten3.append([row[1], row[2], row[3]])\n"
   ]
  },
  {
   "cell_type": "code",
   "execution_count": 125,
   "metadata": {},
   "outputs": [
    {
     "data": {
      "text/plain": [
       "<matplotlib.legend.Legend at 0x1314af40c08>"
      ]
     },
     "execution_count": 125,
     "metadata": {},
     "output_type": "execute_result"
    },
    {
     "data": {
      "image/png": "[encoded data removed]",
      "text/plain": [
       "<Figure size 432x288 with 1 Axes>"
      ]
     },
     "metadata": {
      "needs_background": "light"
     },
     "output_type": "display_data"
    }
   ],
   "source": [
    "df1 = pd.DataFrame(data=inten1, columns=['I2', 'contrast', 'fwhm'])\n",
    "df15 = pd.DataFrame(data=inten15, columns=['I2', 'contrast', 'fwhm'])\n",
    "df2 = pd.DataFrame(data=inten2, columns=['I2', 'contrast', 'fwhm'])\n",
    "df25 = pd.DataFrame(data=inten25, columns=['I2', 'contrast', 'fwhm'])\n",
    "df3 = pd.DataFrame(data=inten3, columns=['I2', 'contrast', 'fwhm'])\n",
    "\n",
    "plt.title('contrast for various intensities')\n",
    "plt.xlabel('I2 (W/m^2)')\n",
    "plt.ylabel('contrast')\n",
    "\n",
    "\n",
    "plt.plot(df1['I2'], df1['contrast'], label='1')\n",
    "plt.plot(df15['I2'], df15['contrast'], label='1.5')\n",
    "plt.plot(df2['I2'], df2['contrast'], label='2')\n",
    "plt.plot(df25['I2'], df25['contrast'], label='2.5')\n",
    "plt.plot(df3['I2'], df3['contrast'], label='3')\n",
    "plt.legend(title='I1 (W/m^2)')"
   ]
  },
  {
   "cell_type": "code",
   "execution_count": 133,
   "metadata": {},
   "outputs": [
    {
     "data": {
      "text/plain": [
       "<matplotlib.legend.Legend at 0x1314b000f88>"
      ]
     },
     "execution_count": 133,
     "metadata": {},
     "output_type": "execute_result"
    },
    {
     "data": {
      "image/png": "[encoded data removed]",
      "text/plain": [
       "<Figure size 432x288 with 1 Axes>"
      ]
     },
     "metadata": {
      "needs_background": "light"
     },
     "output_type": "display_data"
    }
   ],
   "source": [
    "plt.title('linewidth for various intensities')\n",
    "plt.xlabel('I2 (W/m^2)')\n",
    "plt.ylabel('FWHM (MHz)')\n",
    "\n",
    "\n",
    "plt.scatter(df1['I2'], df1['fwhm'], label='1')\n",
    "plt.scatter(df15['I2'], df15['fwhm'], label='1.5')\n",
    "plt.scatter(df2['I2'], df2['fwhm'], label='2')\n",
    "plt.scatter(df25['I2'], df25['fwhm'], label='2.5')\n",
    "plt.scatter(df3['I2'], df3['fwhm'], label='3')\n",
    "plt.legend(title='I1 (W/m^2)', loc='lower right')"
   ]
  },
  {
   "cell_type": "code",
   "execution_count": null,
   "metadata": {},
   "outputs": [],
   "source": []
  }
 ],
 "metadata": {
  "kernelspec": {
   "display_name": "Python 3",
   "language": "python",
   "name": "python3"
  },
  "language_info": {
   "codemirror_mode": {
    "name": "ipython",
    "version": 3
   },
   "file_extension": ".py",
   "mimetype": "text/x-python",
   "name": "python",
   "nbconvert_exporter": "python",
   "pygments_lexer": "ipython3",
   "version": "3.7.7"
  }
 },
 "nbformat": 4,
 "nbformat_minor": 4
}
